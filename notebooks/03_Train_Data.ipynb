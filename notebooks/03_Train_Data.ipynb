{
 "cells": [
  {
   "cell_type": "code",
   "execution_count": null,
   "id": "96e524fa",
   "metadata": {},
   "outputs": [],
   "source": [
    "from sklearn.model_selection import train_test_split\n",
    "from sklearn.ensemble import RandomForestRegressor\n",
    "from sklearn.metrics import r2_score\n",
    "import pandas as pd"
   ]
  },
  {
   "cell_type": "code",
   "execution_count": null,
   "id": "d14dca69",
   "metadata": {},
   "outputs": [],
   "source": [
    "df2020 = pd.read_csv(\"../data/3/spotify_2020_cleaned.csv\")\n",
    "# df2023 = pd.read_csv(\"../data/3/spotify_2023_cleaned.csv\")\n"
   ]
  },
  {
   "cell_type": "code",
   "execution_count": null,
   "id": "bc4b2381",
   "metadata": {},
   "outputs": [],
   "source": [
    "x2020 = df2020.drop(columns=['id', 'name', 'release_date', 'artists', 'id_artists', 'popularity', 'explicit', 'artist_id', 'merge_key'])\n",
    "# x2023 = df2023.drop(columns=['id', 'name', 'release_date', 'popularity'])\n",
    "\n",
    "y2020 = df2020['popularity']\n",
    "# y2023 = df2023['popularity']\n",
    "\n",
    "X_train, X_test, y_train, y_test = train_test_split(x2020, y2020, test_size=0.2, random_state=22)\n",
    "model = RandomForestRegressor()\n",
    "model.fit(X_train, y_train)\n",
    "preds = model.predict(X_test)\n",
    "print(\"R²:\", r2_score(y_test, preds))"
   ]
  }
 ],
 "metadata": {
  "kernelspec": {
   "display_name": "venv",
   "language": "python",
   "name": "python3"
  },
  "language_info": {
   "codemirror_mode": {
    "name": "ipython",
    "version": 3
   },
   "file_extension": ".py",
   "mimetype": "text/x-python",
   "name": "python",
   "nbconvert_exporter": "python",
   "pygments_lexer": "ipython3",
   "version": "3.13.1"
  }
 },
 "nbformat": 4,
 "nbformat_minor": 5
}
