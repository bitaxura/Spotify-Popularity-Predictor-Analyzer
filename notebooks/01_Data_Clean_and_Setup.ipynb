{
 "cells": [
  {
   "cell_type": "code",
   "execution_count": null,
   "id": "dd8b358b",
   "metadata": {},
   "outputs": [],
   "source": [
    "import kagglehub\n",
    "import os\n",
    "import shutil\n",
    "import pandas as pd\n",
    "import numpy as np\n",
    "import matplotlib.pyplot as plt\n",
    "\n",
    "plt.rcParams['figure.figsize'] = (10, 5)\n",
    "# plt.rcParams['figure.autolayout'] = True"
   ]
  },
  {
   "cell_type": "code",
   "execution_count": null,
   "id": "d85bd54d",
   "metadata": {},
   "outputs": [],
   "source": [
    "# Download latest version\n",
    "path1 = kagglehub.dataset_download(\"tonygordonjr/spotify-dataset-2023\")\n",
    "path2 = kagglehub.dataset_download(\"yamaerenay/spotify-dataset-19212020-600k-tracks\")\n",
    "\n",
    "target_dir = os.path.join(os.getcwd(), \"data\")\n",
    "if not os.path.exists(target_dir):\n",
    "    os.makedirs(target_dir)\n",
    "\n",
    "shutil.move(path1, target_dir)\n",
    "shutil.move(path2, target_dir)"
   ]
  },
  {
   "cell_type": "code",
   "execution_count": null,
   "id": "f864285b",
   "metadata": {},
   "outputs": [],
   "source": [
    "df = pd.read_csv(\"../data/1/tracks.csv\") \n",
    "df['release_date'] = pd.to_datetime(df['release_date'], format='mixed').dropna()\n",
    "df[df['name'] == 'Style'].head()\n",
    "# df[df['id_artists'].apply(lambda x: '06HL4z0CvFAxyc27GXpf02' in x)].head()"
   ]
  },
  {
   "cell_type": "code",
   "execution_count": null,
   "id": "e6a14cd6",
   "metadata": {},
   "outputs": [],
   "source": [
    "plt.hist(df['popularity'], bins=10, color='skyblue', edgecolor='black')\n",
    "plt.title(\"Distribution of Song Popularity\")\n",
    "plt.xlabel(\"Popularity (0–100)\")\n",
    "plt.ylabel(\"Number of Songs\")\n",
    "plt.xticks(np.arange(0, 101, 10))\n",
    "plt.show()"
   ]
  },
  {
   "cell_type": "code",
   "execution_count": null,
   "id": "cd6688fc",
   "metadata": {},
   "outputs": [],
   "source": [
    "num_cols = df.select_dtypes(include=np.number)\n",
    "corr = num_cols.corr()\n",
    "\n",
    "plt.figure(figsize=(10, 8))\n",
    "plt.imshow(corr, cmap='coolwarm', interpolation='nearest', aspect='auto')\n",
    "plt.colorbar()\n",
    "\n",
    "plt.xticks(np.arange(corr.shape[1]), corr.columns, rotation=45)\n",
    "plt.yticks(np.arange(corr.shape[0]), corr.index)\n",
    "plt.title(\"Heatmap\", fontsize=16)\n",
    "plt.tight_layout()\n",
    "plt.show()"
   ]
  },
  {
   "cell_type": "code",
   "execution_count": null,
   "id": "e9504e42",
   "metadata": {},
   "outputs": [],
   "source": [
    "features = ['danceability', 'energy', 'acousticness', 'tempo']\n",
    "sample = df.sample(1000, random_state=22)\n",
    "\n",
    "for f in features:\n",
    "    x = df[f]\n",
    "    y = df['popularity']\n",
    "    \n",
    "    plt.scatter(x, y, alpha=0.1, s=10)\n",
    "    \n",
    "    m, b = np.polyfit(x, y, 1)\n",
    "    plt.plot(x, m*x + b, color='red')\n",
    "    \n",
    "    plt.title(f\"{f.title()} vs Popularity (Trendline)\")\n",
    "    plt.xlabel(f.title())\n",
    "    plt.ylabel(\"Popularity\")\n",
    "    plt.show()"
   ]
  },
  {
   "cell_type": "code",
   "execution_count": null,
   "id": "a5ec8594",
   "metadata": {},
   "outputs": [],
   "source": [
    "yearly_pop = df.groupby(df['release_date'].dt.year)['popularity'].mean().reset_index()\n",
    "plt.plot(yearly_pop['release_date'], yearly_pop['popularity'])\n",
    "plt.title(\"Average Popularity of Song from Year\")\n",
    "plt.xlabel(\"Year\")\n",
    "plt.ylabel(\"Popularity\")\n",
    "plt.show()"
   ]
  },
  {
   "cell_type": "code",
   "execution_count": null,
   "id": "8f535375",
   "metadata": {},
   "outputs": [],
   "source": []
  }
 ],
 "metadata": {
  "kernelspec": {
   "display_name": "venv",
   "language": "python",
   "name": "python3"
  },
  "language_info": {
   "codemirror_mode": {
    "name": "ipython",
    "version": 3
   },
   "file_extension": ".py",
   "mimetype": "text/x-python",
   "name": "python",
   "nbconvert_exporter": "python",
   "pygments_lexer": "ipython3",
   "version": "3.13.1"
  }
 },
 "nbformat": 4,
 "nbformat_minor": 5
}
