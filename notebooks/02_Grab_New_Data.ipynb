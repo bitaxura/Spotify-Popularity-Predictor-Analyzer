{
 "cells": [
  {
   "cell_type": "code",
   "execution_count": 3,
   "id": "ee225cd9",
   "metadata": {},
   "outputs": [],
   "source": [
    "import os\n",
    "import time\n",
    "import spotipy\n",
    "from spotipy.oauth2 import SpotifyOAuth\n",
    "import pandas as pd\n",
    "from dotenv import load_dotenv\n",
    "\n",
    "load_dotenv()\n",
    "client_id = os.getenv('CLIENT_ID')\n",
    "client_secret = os.getenv('CLIENT_SECRET')\n",
    "\n",
    "sp = spotipy.Spotify(auth_manager=SpotifyOAuth(client_id=client_id, client_secret=client_secret, redirect_uri=r'https://example.com/callback', scope='', open_browser=False))"
   ]
  },
  {
   "cell_type": "code",
   "execution_count": 4,
   "id": "a194e9d2",
   "metadata": {},
   "outputs": [],
   "source": [
    "df = pd.read_csv(r\"..\\data\\1\\tracks.csv\")\n",
    "df['id'] = df['id'].dropna().astype(str)\n"
   ]
  },
  {
   "cell_type": "code",
   "execution_count": null,
   "id": "255f8576",
   "metadata": {},
   "outputs": [],
   "source": [
    "ids = [\"35iwgR4jXetI318WEWsa1Q\", \"021ht4sdgPcrDgSk7JTbKY\"]\n",
    "print(sp.audio_features(ids))"
   ]
  },
  {
   "cell_type": "code",
   "execution_count": null,
   "id": "7a55d6f0",
   "metadata": {},
   "outputs": [],
   "source": [
    "def fetch_new_info(track_id):\n",
    "    results = []\n",
    "\n",
    "    for i in range(0, len(track_id), 1):\n",
    "        batch = track_id[i:i + 50]\n",
    "        print(\"batch\", batch)\n",
    "        tracks = sp.tracks(batch)\n",
    "        print(\"tracks\", tracks)\n",
    "\n",
    "        features = sp.audio_features(batch)\n",
    "        print('features', features)\n",
    "        input()\n",
    "\n",
    "        for t, f in zip(tracks, features):\n",
    "            if t and f: \n",
    "                results.append({\n",
    "                    'id': t['id'],\n",
    "                    'name': t['name'],\n",
    "                    'artist': t['artists'][0]['name'],\n",
    "                    'popularity': t['popularity'],\n",
    "                    'danceability': f['danceability'],\n",
    "                    'energy': f['energy'],\n",
    "                    'valence': f['valence'],\n",
    "                    'tempo': f['tempo'],\n",
    "                    'acousticness': f['acousticness'],\n",
    "                    'liveness': f['liveness'],\n",
    "                    'speechiness': f['speechiness']\n",
    "                })\n",
    "        time.sleep(0.3)\n",
    "    return pd.DataFrame(results)\n",
    "\n",
    "track_ids = df['id'].dropna().astype(str).unique().tolist()\n",
    "track_ids = [tid.strip() for tid in track_ids if len(tid.strip()) == 22]\n",
    "df_new = fetch_new_info(track_ids)\n",
    "df_new.to_csv(r\"..\\data\\spotify_2025.csv\", index=False)"
   ]
  }
 ],
 "metadata": {
  "kernelspec": {
   "display_name": "venv",
   "language": "python",
   "name": "python3"
  },
  "language_info": {
   "codemirror_mode": {
    "name": "ipython",
    "version": 3
   },
   "file_extension": ".py",
   "mimetype": "text/x-python",
   "name": "python",
   "nbconvert_exporter": "python",
   "pygments_lexer": "ipython3",
   "version": "3.13.1"
  }
 },
 "nbformat": 4,
 "nbformat_minor": 5
}
